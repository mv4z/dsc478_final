{
 "cells": [
  {
   "cell_type": "markdown",
   "id": "c1c8c018",
   "metadata": {},
   "source": [
    "# Spotify API exploration"
   ]
  },
  {
   "cell_type": "code",
   "execution_count": 2,
   "id": "71209e5c",
   "metadata": {},
   "outputs": [],
   "source": [
    "import numpy as np\n",
    "import pandas as pd\n",
    "import matplotlib.pyplot as plt\n",
    "import spotipy\n",
    "import config"
   ]
  },
  {
   "cell_type": "markdown",
   "id": "6664a528",
   "metadata": {},
   "source": [
    "this is how to set environment variables in a jupyter notebook"
   ]
  },
  {
   "cell_type": "code",
   "execution_count": 3,
   "id": "975dbaa1",
   "metadata": {},
   "outputs": [],
   "source": [
    "#%env MY_VAR=MY_VALUE"
   ]
  },
  {
   "cell_type": "code",
   "execution_count": 9,
   "id": "cec2b53e",
   "metadata": {},
   "outputs": [
    {
     "name": "stdout",
     "output_type": "stream",
     "text": [
      "<class 'str'>\n"
     ]
    }
   ],
   "source": [
    "print(type(config.SPOTIFY_CLIENT_ID))"
   ]
  },
  {
   "cell_type": "code",
   "execution_count": 10,
   "id": "7a27e8ed",
   "metadata": {},
   "outputs": [
    {
     "name": "stdout",
     "output_type": "stream",
     "text": [
      "0 Freestyle\n",
      "1 Wants and Needs (feat. Lil Baby)\n",
      "2 Drip Too Hard (Lil Baby & Gunna)\n",
      "3 On Me\n",
      "4 Forever (feat. Fridayy)\n",
      "5 Baby (Lil Baby feat. DaBaby)\n",
      "6 Pure Cocaine\n",
      "7 Detox\n",
      "8 Yes Indeed\n",
      "9 EVERY CHANCE I GET (feat. Lil Baby & Lil Durk)\n",
      "10 In A Minute\n",
      "11 California Breeze\n",
      "12 Sleazy Flow (with Lil Baby) - Remix\n",
      "13 Never Hating (feat. Young Thug)\n",
      "14 Heyy\n",
      "15 Stand On It\n",
      "16 Not Finished\n",
      "17 STAYING ALIVE (feat. Drake & Lil Baby)\n",
      "18 The World Is Yours To Take - Budweiser Anthem Of The FIFA World Cup 2022\n",
      "19 Heyy\n"
     ]
    }
   ],
   "source": [
    "import spotipy\n",
    "from spotipy.oauth2 import SpotifyClientCredentials\n",
    "\n",
    "sp = spotipy.Spotify(auth_manager=SpotifyClientCredentials(client_id=config.SPOTIFY_CLIENT_ID,\n",
    "                                                           client_secret=config.SPOTIFY_SECRET))\n",
    "\n",
    "results = sp.search(q='lil baby', limit=20)\n",
    "for idx, track in enumerate(results['tracks']['items']):\n",
    "    print(idx, track['name'])"
   ]
  },
  {
   "cell_type": "markdown",
   "id": "39d9a036",
   "metadata": {},
   "source": [
    "Get a playlist of mine  \n",
    "can just retrieve playlist with the link"
   ]
  },
  {
   "cell_type": "markdown",
   "id": "4899ce39",
   "metadata": {},
   "source": [
    "## idea here is to look at a playlist that the user provides"
   ]
  },
  {
   "cell_type": "code",
   "execution_count": null,
   "id": "3971d251",
   "metadata": {},
   "outputs": [],
   "source": [
    "results = sp.playlist('https://open.spotify.com/playlist/3LNpCyZZnzP0YQDLC52CKS?si=81c062b03e8447b1')"
   ]
  },
  {
   "cell_type": "code",
   "execution_count": null,
   "id": "8f78703a",
   "metadata": {},
   "outputs": [],
   "source": [
    "print(results)"
   ]
  },
  {
   "cell_type": "code",
   "execution_count": null,
   "id": "47d39108",
   "metadata": {},
   "outputs": [],
   "source": [
    "results.keys()"
   ]
  },
  {
   "cell_type": "code",
   "execution_count": null,
   "id": "fec63754",
   "metadata": {},
   "outputs": [],
   "source": [
    "print(results['external_urls'])"
   ]
  },
  {
   "cell_type": "code",
   "execution_count": null,
   "id": "750ecb3f",
   "metadata": {},
   "outputs": [],
   "source": [
    "results['href']"
   ]
  },
  {
   "cell_type": "code",
   "execution_count": null,
   "id": "d59a3f3c",
   "metadata": {},
   "outputs": [],
   "source": [
    "import json"
   ]
  },
  {
   "cell_type": "code",
   "execution_count": null,
   "id": "19108d11",
   "metadata": {},
   "outputs": [],
   "source": [
    "print(json.dumps(results, indent=2, default=str))"
   ]
  },
  {
   "cell_type": "code",
   "execution_count": null,
   "id": "2e050397",
   "metadata": {},
   "outputs": [],
   "source": [
    "print (json.dumps(results[\"tracks\"][\"items\"], indent=2, default=str))"
   ]
  },
  {
   "cell_type": "markdown",
   "id": "58105d9b",
   "metadata": {},
   "source": [
    "This the names of all of the tracks in the playlist"
   ]
  },
  {
   "cell_type": "code",
   "execution_count": null,
   "id": "2fd3d3d0",
   "metadata": {},
   "outputs": [],
   "source": [
    "res = results[\"tracks\"][\"items\"]\n",
    "\n",
    "playlist_df = pd.DataFrame(columns=['song_title', 'artist','artist_id' ,'album', 'track_id', 'popularity'], index=None)\n",
    "track_position = 1\n",
    "for i in res:\n",
    "    track = i[\"track\"]\n",
    "#    print(i, end='')\n",
    "#    print(i.keys())\n",
    "#    print(track) \n",
    "    name = track[\"name\"]\n",
    "    #we should get track ID\n",
    "\n",
    "    artists = []\n",
    "    artist_list = track[\"artists\"]\n",
    "    for a in range(len(artist_list)):\n",
    "        artists.append((artist_list[a]['name'], artist_list[a]['id']))\n",
    "        #at this level we can grab artist ID as well\n",
    "        \n",
    "    \n",
    "        \n",
    "    \n",
    "    album = track[\"album\"][\"name\"]\n",
    "    #should be able to grab album ID as well\n",
    "    track_id = track[\"id\"]\n",
    "    artist_list = [x[0] for x in artists]\n",
    "    artist_id_list = [x[1] for x in artists]\n",
    "    \n",
    "    #track popularity?\n",
    "    track_pop = track[\"popularity\"]\n",
    "    \n",
    "\n",
    "    \n",
    "    print('name:', name)\n",
    "    print('artist:', artists)\n",
    "    print('album:', album)\n",
    "    print('artist_ids:', artist_id_list)\n",
    "    print('popularity', track_pop)\n",
    "    print(\"-------------------------------\")\n",
    "    \n",
    "#     artist_id_list = [x[1] for x in artists]\n",
    "    \n",
    "            \n",
    "    playlist_df.loc[track_position] = {'song_title' : name,\n",
    "                                   'artist' : artist_list,\n",
    "                                   'artist_id' : artist_id_list,\n",
    "                                   'album' : album, \n",
    "                                   'track_id' : track_id,\n",
    "                                    'popularity':track_pop} #can i put a list into one column? \n",
    "    track_position+=1\n"
   ]
  },
  {
   "cell_type": "code",
   "execution_count": null,
   "id": "56ce2968",
   "metadata": {},
   "outputs": [],
   "source": [
    "playlist_df"
   ]
  },
  {
   "cell_type": "markdown",
   "id": "5d6c97bf",
   "metadata": {},
   "source": [
    "## Get audio features from songs on playlists"
   ]
  },
  {
   "cell_type": "code",
   "execution_count": null,
   "id": "f2b09d06",
   "metadata": {},
   "outputs": [],
   "source": [
    "#a list of all of the track ids in the playlist\n",
    "tracklist = playlist_df.track_id.ravel()\n",
    "tracklist\n",
    "#tracklist[0]"
   ]
  },
  {
   "cell_type": "code",
   "execution_count": null,
   "id": "73c0d054",
   "metadata": {},
   "outputs": [],
   "source": [
    "track_audio_features = sp.audio_analysis(tracklist[0])['track']"
   ]
  },
  {
   "cell_type": "code",
   "execution_count": null,
   "id": "32343aaf",
   "metadata": {},
   "outputs": [],
   "source": [
    "#print(json.dumps(track_audio_features, indent=2, default=str))"
   ]
  },
  {
   "cell_type": "code",
   "execution_count": null,
   "id": "8314fcbd",
   "metadata": {},
   "outputs": [],
   "source": [
    "try:\n",
    "    track_audio_features = sp.audio_features(tracklist)\n",
    "    for feature in track_audio_features:\n",
    "        print(json.dumps(feature, indent=4))\n",
    "        print()\n",
    "except AttributeError:\n",
    "    null_song_idx = np.where(tracklist == None)\n",
    "    pass\n",
    "\n",
    "#drop songs that arent found in spotify\n",
    "tracklist = [x for x in tracklist if (x != None)]\n",
    "\n",
    "track_audio_features = sp.audio_features(tracklist)\n",
    "\n",
    "# for feature in track_audio_features:\n",
    "#     print(json.dumps(feature, indent=4))\n",
    "#     print()\n",
    "print('These are the songs which could not be analyzed. (this is probably because theyre not on spotify):\\n', playlist_df.iloc[null_song_idx][\"song_title\"])"
   ]
  },
  {
   "cell_type": "code",
   "execution_count": null,
   "id": "16d159c9",
   "metadata": {},
   "outputs": [],
   "source": [
    "features_df = pd.DataFrame()\n",
    "i = 1\n",
    "for audio_features in track_audio_features:\n",
    "    song_features = pd.DataFrame(audio_features, index=[i])\n",
    "#    print(audio_features.keys())\n",
    "    features_df = pd.concat([features_df,song_features], axis=0)\n",
    "    i+=1\n",
    "features_df\n"
   ]
  },
  {
   "cell_type": "markdown",
   "id": "112e25da",
   "metadata": {},
   "source": [
    "## join the audio features df with the playlist df  \n",
    "ultimately this might not be necessary because we have the track id and all of the info we want for now. "
   ]
  },
  {
   "cell_type": "code",
   "execution_count": null,
   "id": "edd9a89a",
   "metadata": {},
   "outputs": [],
   "source": [
    "complete_playlist_df = playlist_df.merge(features_df, left_on='track_id', right_on='id', how='left')"
   ]
  },
  {
   "cell_type": "code",
   "execution_count": null,
   "id": "de622c1a",
   "metadata": {},
   "outputs": [],
   "source": [
    "complete_playlist_df = complete_playlist_df[complete_playlist_df['track_id'].notna()]\n",
    "complete_playlist_df"
   ]
  },
  {
   "cell_type": "code",
   "execution_count": null,
   "id": "04f9859e",
   "metadata": {},
   "outputs": [],
   "source": [
    "complete_playlist_df.columns"
   ]
  },
  {
   "cell_type": "markdown",
   "id": "fcacb7d9",
   "metadata": {},
   "source": [
    "## get the count of each artist to find the most popular in the playlist"
   ]
  },
  {
   "cell_type": "code",
   "execution_count": null,
   "id": "b53a4764",
   "metadata": {},
   "outputs": [],
   "source": [
    "#playlist_df['artist_id'].value_counts()"
   ]
  },
  {
   "cell_type": "code",
   "execution_count": null,
   "id": "c819d80c",
   "metadata": {},
   "outputs": [],
   "source": [
    "#playlist_df['artist'].value_counts()"
   ]
  },
  {
   "cell_type": "markdown",
   "id": "f7b06aa2",
   "metadata": {},
   "source": [
    "try to get all of the artists individually instead of per track. (tracks with more than 1 artist have a LIST of artists as its value in this column)"
   ]
  },
  {
   "cell_type": "code",
   "execution_count": null,
   "id": "39f212bc",
   "metadata": {},
   "outputs": [],
   "source": [
    "artist_counts_in_playlist = {} #count the occurrences of each artist in the playlist (including artist features)\n",
    "artist_id_counts_in_playlist = {}\n",
    "\n",
    "artists = complete_playlist_df['artist']\n",
    "artist_ids = complete_playlist_df['artist_id']\n",
    "\n",
    "for i in artists.index:\n",
    "    \n",
    "    track_artists_lst = artists[i]\n",
    "    track_artist_ids_lst = artist_ids[i]\n",
    "    \n",
    "    for a in track_artists_lst:\n",
    "        if a not in artist_counts_in_playlist.keys():\n",
    "            artist_counts_in_playlist[a] = 1\n",
    "        else:\n",
    "            artist_counts_in_playlist[a] += 1\n",
    "            \n",
    "    for a_id in track_artist_ids_lst:\n",
    "        if a_id not in artist_id_counts_in_playlist.keys():\n",
    "            artist_id_counts_in_playlist[a_id] = 1\n",
    "        else:\n",
    "            artist_id_counts_in_playlist[a_id] += 1\n",
    "        \n",
    "            \n",
    "print(artist_counts_in_playlist)\n",
    "#artist_counts = pd.DataFrame.from_dict(artist_counts_in_playlist, columns=['artist', 'playlist_appearances'])\n",
    "artist_counts = pd.DataFrame(artist_counts_in_playlist, index=range(0,1))\n",
    "artist_counts"
   ]
  },
  {
   "cell_type": "code",
   "execution_count": null,
   "id": "65ce2e99",
   "metadata": {},
   "outputs": [],
   "source": [
    "artist_id_counts = pd.DataFrame(artist_id_counts_in_playlist, index=range(0,1))\n",
    "artist_id_counts"
   ]
  },
  {
   "cell_type": "code",
   "execution_count": null,
   "id": "9b41fc01",
   "metadata": {},
   "outputs": [],
   "source": [
    "#artist_id_counts.T.sort_values(by=0,ascending=False)"
   ]
  },
  {
   "cell_type": "code",
   "execution_count": null,
   "id": "7d56c4c9",
   "metadata": {},
   "outputs": [],
   "source": [
    "import seaborn as sns"
   ]
  },
  {
   "cell_type": "code",
   "execution_count": null,
   "id": "6de198c7",
   "metadata": {},
   "outputs": [],
   "source": [
    "# ax = plt.subplots(figsize=(20,10))\n",
    "# ax = sns.barplot(artist_id_counts, palette=\"Paired\")\n",
    "# ax = plt.xticks(rotation=75)\n",
    "# #sorrt the bars"
   ]
  },
  {
   "cell_type": "markdown",
   "id": "0eafca52",
   "metadata": {},
   "source": [
    "weights could be assigned by frequency. Making an assumption here that if an artist appears more in a playlist its because the user prefers their music. "
   ]
  },
  {
   "cell_type": "markdown",
   "id": "d8b088f4",
   "metadata": {},
   "source": [
    "## search for tracks by the artist\n",
    "\n",
    "artist_top_tracks"
   ]
  },
  {
   "cell_type": "code",
   "execution_count": null,
   "id": "27713f2f",
   "metadata": {},
   "outputs": [],
   "source": [
    "artist_id_counts.columns"
   ]
  },
  {
   "cell_type": "code",
   "execution_count": null,
   "id": "dd2fd5df",
   "metadata": {},
   "outputs": [],
   "source": [
    "artist_id_counts.columns[0]"
   ]
  },
  {
   "cell_type": "markdown",
   "id": "4cbd8445",
   "metadata": {},
   "source": [
    "searching by artist name (easier than searching by id so far. id wouldnt return any results)"
   ]
  },
  {
   "cell_type": "code",
   "execution_count": null,
   "id": "780a3798",
   "metadata": {},
   "outputs": [],
   "source": [
    "result = sp.search(artist_counts.columns[0], type=['track', 'album'], limit = 50) #limit is 50 because we want to make sure that we're recommending songs not already in a playlist\n",
    "print('len result[tracks]',len(result['tracks']))\n",
    "print(result['tracks'])"
   ]
  },
  {
   "cell_type": "code",
   "execution_count": null,
   "id": "529c8ae1",
   "metadata": {},
   "outputs": [],
   "source": [
    "print('len result[tracks][items]',len(result['tracks']['items']))\n",
    "# print(result['tracks']['items'])\n",
    "#print (json.dumps(result['tracks']['items'], indent=4, default=str))\n",
    "#print (type(result['tracks']['items']))\n",
    "song_names = []\n",
    "song_ids = []\n",
    "\n",
    "for song in result['tracks']['items']:\n",
    "    song_names.append(song['name'])\n",
    "    song_ids.append(song['id'])\n",
    "    \n",
    "d = {'song':song_names,\n",
    "     'song_id':song_ids}\n",
    "pd.DataFrame(d, index=None)\n"
   ]
  },
  {
   "cell_type": "code",
   "execution_count": null,
   "id": "7fea3853",
   "metadata": {},
   "outputs": [],
   "source": [
    "song_ids"
   ]
  },
  {
   "cell_type": "code",
   "execution_count": null,
   "id": "bd17777a",
   "metadata": {},
   "outputs": [],
   "source": [
    "song_ids_to_analyze =[s for s in song_ids if s not in complete_playlist_df.track_id ] #the songs from the artist search that are not in the playlist already"
   ]
  },
  {
   "cell_type": "code",
   "execution_count": null,
   "id": "11d34b19",
   "metadata": {},
   "outputs": [],
   "source": [
    "len(song_ids_to_analyze)"
   ]
  },
  {
   "cell_type": "markdown",
   "id": "d934cde6",
   "metadata": {},
   "source": [
    "make sure that these songs are not on the playlist already  \n",
    "get the audio features for these songs  \n",
    "compare to the songs that are already in the playlist:  \n",
    "* comparing just to the song fom the playlist that the search started with?\n",
    "* should i calculate some sort of average from the audio features of the songs in the playlist?"
   ]
  },
  {
   "cell_type": "markdown",
   "id": "364ad37c",
   "metadata": {},
   "source": [
    "Find the average value of the audio features in the playlist"
   ]
  },
  {
   "cell_type": "code",
   "execution_count": null,
   "id": "b7e4d66a",
   "metadata": {},
   "outputs": [],
   "source": [
    "complete_playlist_df.columns"
   ]
  },
  {
   "cell_type": "code",
   "execution_count": null,
   "id": "51cec351",
   "metadata": {},
   "outputs": [],
   "source": [
    "playlist_track_audio_features = complete_playlist_df[[\"track_id\", \"danceability\", \"energy\", \"key\",\n",
    "\"loudness\", \"mode\", \"speechiness\", \"acousticness\",\n",
    "\"instrumentalness\", \"liveness\", \"valence\"]]"
   ]
  },
  {
   "cell_type": "code",
   "execution_count": null,
   "id": "afa9ea31",
   "metadata": {},
   "outputs": [],
   "source": [
    "playlist_track_audio_features"
   ]
  },
  {
   "cell_type": "markdown",
   "id": "67bed69b",
   "metadata": {},
   "source": [
    "normalize all the audio features"
   ]
  },
  {
   "cell_type": "code",
   "execution_count": null,
   "id": "05f20d1d",
   "metadata": {},
   "outputs": [],
   "source": [
    "from sklearn.preprocessing import StandardScaler\n",
    "scaler = StandardScaler()\n",
    "std_num_playlist_track_audio_features = pd.DataFrame(scaler.fit_transform(playlist_track_audio_features.iloc[:,1:]))"
   ]
  },
  {
   "cell_type": "code",
   "execution_count": null,
   "id": "547d73c5",
   "metadata": {},
   "outputs": [],
   "source": [
    "std_num_playlist_track_audio_features = pd.DataFrame(playlist_track_audio_features.iloc[:,0]).join(std_num_playlist_track_audio_features)\n",
    "std_num_playlist_track_audio_features"
   ]
  },
  {
   "cell_type": "code",
   "execution_count": null,
   "id": "76b744c7",
   "metadata": {},
   "outputs": [],
   "source": [
    "from sklearn.preprocessing import MinMaxScaler\n",
    "scaler = MinMaxScaler()\n",
    "minmax_playlist_track_audio_features = scaler.fit_transform(playlist_track_audio_features.iloc[:,1:])"
   ]
  },
  {
   "cell_type": "code",
   "execution_count": null,
   "id": "d6163364",
   "metadata": {},
   "outputs": [],
   "source": [
    "minmax_playlist_track_audio_features = pd.DataFrame(minmax_playlist_track_audio_features)"
   ]
  },
  {
   "cell_type": "code",
   "execution_count": null,
   "id": "19d57101",
   "metadata": {},
   "outputs": [],
   "source": [
    "minmax_playlist_track_audio_features = pd.DataFrame(playlist_track_audio_features.iloc[:,0]).join(minmax_playlist_track_audio_features)\n",
    "minmax_playlist_track_audio_features"
   ]
  },
  {
   "cell_type": "code",
   "execution_count": null,
   "id": "7a839747",
   "metadata": {},
   "outputs": [],
   "source": [
    "audio_features_avg_std = std_num_playlist_track_audio_features.mean()"
   ]
  },
  {
   "cell_type": "code",
   "execution_count": null,
   "id": "24c302fd",
   "metadata": {},
   "outputs": [],
   "source": [
    "audio_features_avg_minmax = minmax_playlist_track_audio_features.mean()"
   ]
  },
  {
   "cell_type": "code",
   "execution_count": null,
   "id": "6200d06f",
   "metadata": {},
   "outputs": [],
   "source": [
    "from sklearn.metrics import pairwise"
   ]
  },
  {
   "cell_type": "code",
   "execution_count": null,
   "id": "6fad789c",
   "metadata": {},
   "outputs": [],
   "source": [
    "np.array(std_num_playlist_track_audio_features.iloc[1,1:])"
   ]
  },
  {
   "cell_type": "code",
   "execution_count": null,
   "id": "c6344c27",
   "metadata": {},
   "outputs": [],
   "source": [
    "audio_features_avg_std"
   ]
  },
  {
   "cell_type": "markdown",
   "id": "9aa3a5a7",
   "metadata": {},
   "source": [
    "Cosine similarity between the average auio feature values of all tracks on playlist and the first track. this calculation is going to be performed for eah track in the playlist to identify which songs on the playlist should be used for recommendation. Those songs that are the most similar to the values of the playlist overall will be put through the search process above."
   ]
  },
  {
   "cell_type": "code",
   "execution_count": null,
   "id": "15206d68",
   "metadata": {},
   "outputs": [],
   "source": [
    "std_num_playlist_track_audio_features.iloc[1,1:]"
   ]
  },
  {
   "cell_type": "code",
   "execution_count": null,
   "id": "a78bff69",
   "metadata": {},
   "outputs": [],
   "source": [
    "pairwise.cosine_similarity(np.array(std_num_playlist_track_audio_features.iloc[1,1:]).reshape(1, -1), np.array(audio_features_avg_std).reshape(1, -1))"
   ]
  },
  {
   "cell_type": "code",
   "execution_count": null,
   "id": "4d3be7e9",
   "metadata": {},
   "outputs": [],
   "source": [
    "pairwise.cosine_similarity(np.array(minmax_playlist_track_audio_features.iloc[1,1:]).reshape(1, -1), np.array(audio_features_avg_minmax).reshape(1, -1))"
   ]
  },
  {
   "cell_type": "markdown",
   "id": "786635b1",
   "metadata": {},
   "source": [
    "so far I like the minmax scaled dataset as opposed to the standard scaler dataset because the values seem cleaner"
   ]
  },
  {
   "cell_type": "markdown",
   "id": "3e10fc81",
   "metadata": {},
   "source": [
    "### NO cannot search by features\n",
    "\n",
    "### if i cant then how would be the best way to recommend people music?\n",
    "- i can start by looking at the specific artist, searching their song catalog for ones with similar features [songs with completely different features but by the same artist could be suggested here to show artists range]\n",
    "- find similar artists:\n",
    "    - spotify API\n",
    "    - searching through current Artist's features & featured artists\n",
    "    - search the genre? (dont have this information at this point, but can it be found at a higher level?)\n",
    "- make sure that there are absolutely NO songs from the original playlist that are on the new one that is generated\n",
    "    \n",
    "### another idea is to keep the songs that are seen & their info in a database...  \n",
    "- this would add overhead that im not sure i want to add right now\n",
    "- database could essentially grow to MASSIVE sizes, and i dont have MASSIVE resources. \n",
    "\n",
    "### incorporate feedback on the playlist somehow? or on the song? idk\n",
    "\n",
    "### could analyze the new & old playlists as well. Would be cool to display some visualizations based on them\n",
    "try to incorporate new playlist images somehow if web ui"
   ]
  },
  {
   "cell_type": "markdown",
   "id": "9b2d1b1b",
   "metadata": {},
   "source": [
    "spotipy is more of a wrapper in the sense that it just provides a simpler way to make calls to the web API. Here is the main code for the client. It just builds a structured HTTP request for you https://github.com/spotipy-dev/spotipy/blob/master/spotipy/client.py#L217-L291."
   ]
  },
  {
   "cell_type": "markdown",
   "id": "1e78564b",
   "metadata": {},
   "source": [
    "in order to evaluate performance, can have the application 'finish' playlists & see if there are any songs that are recommended which actually appear on the playlist. otherwise, how could this be evaluated/validated? "
   ]
  },
  {
   "cell_type": "markdown",
   "id": "823d4f59",
   "metadata": {},
   "source": [
    "a user profile could THEORETICALLY be built using the playlist, but it is hard to do without explicit rating data.  \n",
    "what if the app named 10 songs to ask the user their rating (1-5) for>"
   ]
  },
  {
   "cell_type": "code",
   "execution_count": null,
   "id": "e394c87c",
   "metadata": {},
   "outputs": [],
   "source": [
    "sp.audio_features('2m85exTjr6xIRSlhx92MUJ')"
   ]
  },
  {
   "cell_type": "code",
   "execution_count": null,
   "id": "e99d9474",
   "metadata": {},
   "outputs": [],
   "source": [
    "sp.audio_features(['4CYTQpr2jc4uBScYvpEK2w'])"
   ]
  }
 ],
 "metadata": {
  "kernelspec": {
   "display_name": "Python 3 (ipykernel)",
   "language": "python",
   "name": "python3"
  },
  "language_info": {
   "codemirror_mode": {
    "name": "ipython",
    "version": 3
   },
   "file_extension": ".py",
   "mimetype": "text/x-python",
   "name": "python",
   "nbconvert_exporter": "python",
   "pygments_lexer": "ipython3",
   "version": "3.8.9"
  }
 },
 "nbformat": 4,
 "nbformat_minor": 5
}
