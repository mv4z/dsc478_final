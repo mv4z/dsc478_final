{
 "cells": [
  {
   "cell_type": "code",
   "execution_count": 1,
   "id": "877c5924",
   "metadata": {},
   "outputs": [],
   "source": [
    "import numpy as np\n",
    "import pandas as pd\n",
    "import matplotlib.pyplot as plt\n",
    "import spotipy\n",
    "import playlist\n",
    "import config\n",
    "import time\n",
    "import create_dataframes\n",
    "from sklearn.metrics import pairwise\n",
    "from sklearn.preprocessing import MinMaxScaler\n",
    "from spotipy.oauth2 import SpotifyOAuth"
   ]
  },
  {
   "cell_type": "code",
   "execution_count": 2,
   "id": "4ed5173c",
   "metadata": {},
   "outputs": [],
   "source": [
    "import importlib"
   ]
  },
  {
   "cell_type": "code",
   "execution_count": 3,
   "id": "df3d5f25",
   "metadata": {},
   "outputs": [
    {
     "data": {
      "text/plain": [
       "<module 'playlist' from '/Users/marvazqu8/mv/fall23/dsc478/dsc478_final_project/dsc478_final/playlist.py'>"
      ]
     },
     "execution_count": 3,
     "metadata": {},
     "output_type": "execute_result"
    }
   ],
   "source": [
    "importlib.reload(playlist)"
   ]
  },
  {
   "cell_type": "code",
   "execution_count": 4,
   "id": "bf8cca7a",
   "metadata": {},
   "outputs": [],
   "source": [
    "# #create spotipy object to interact with spotify web API\n",
    "# from spotipy.oauth2 import SpotifyClientCredentials\n",
    "# sp = spotipy.Spotify(auth_manager=SpotifyClientCredentials(client_id=config.SPOTIFY_CLIENT_ID,\n",
    "#                                                            client_secret=config.SPOTIFY_SECRET))\n",
    "\n",
    "# def get_user_playlist():\n",
    "#     '''Ask the user for a link to a Spotify playlist'''\n",
    "    \n",
    "#     ask = True\n",
    "#     playlist_len = 0\n",
    "\n",
    "#     playlist_url = input('Enter a link to a Spotify playlist:')\n",
    "    \n",
    "#     while ask==True:\n",
    "#         try:\n",
    "#             playlist_len = int(input('How long would you like your final playlist to be? (please enter an integer):'))\n",
    "#             ask = False\n",
    "#         except:\n",
    "#             print('Please be sure to use an INTEGER when specifying how long you woant your final playlist to be.')\n",
    "        \n",
    "#     return (playlist_url, playlist_len)\n",
    "\n",
    "\n",
    "# #playlist_link, final_playlist_len = get_user_playlist()\n",
    "# playlist_link, final_playlist_len = ('https://open.spotify.com/playlist/3LNpCyZZnzP0YQDLC52CKS', 20)\n",
    "# playlist1 = playlist.Playlist(playlist_link, sp)\n",
    "# artist_counts, artist_id_counts = playlist1.get_artist_counts() \n",
    "# avg_audio_values = pd.DataFrame(playlist1.normalized_audio_features.mean(axis=0))\n",
    "# # playlist1's df_playlist is the FULL playlist with audio data2"
   ]
  },
  {
   "cell_type": "code",
   "execution_count": 5,
   "id": "668ff3c3",
   "metadata": {},
   "outputs": [],
   "source": [
    "#create spotipy object to interact with spotify web API\n",
    "from spotipy.oauth2 import SpotifyClientCredentials\n",
    "sp = spotipy.Spotify(\n",
    "    auth_manager=SpotifyClientCredentials\n",
    "        (client_id=config.SPOTIFY_CLIENT_ID,\n",
    "        client_secret=config.SPOTIFY_SECRET\n",
    "        ))"
   ]
  },
  {
   "cell_type": "code",
   "execution_count": 7,
   "id": "47b79863",
   "metadata": {},
   "outputs": [
    {
     "name": "stderr",
     "output_type": "stream",
     "text": [
      "/var/folders/tc/pt7m46h93wxcsmrvn_xnjczm0000gn/T/ipykernel_32407/2365521695.py:5: FutureWarning: Dropping of nuisance columns in DataFrame reductions (with 'numeric_only=None') is deprecated; in a future version this will raise TypeError.  Select only valid columns before calling the reduction.\n",
      "  avg_audio_values = pd.DataFrame(playlist1.normalized_audio_features.mean(axis=0))\n"
     ]
    }
   ],
   "source": [
    "# playlist_link = create_dataframes.get_user_playlist()\n",
    "playlist_link = 'https://open.spotify.com/playlist/37i9dQZEVXcNDMTzEMNNE1'\n",
    "playlist1 = playlist.Playlist(playlist_link, sp)\n",
    "artist_counts, artist_id_counts = playlist1.get_artist_counts() \n",
    "avg_audio_values = pd.DataFrame(playlist1.normalized_audio_features.mean(axis=0))"
   ]
  },
  {
   "cell_type": "code",
   "execution_count": 8,
   "id": "9bf90a9e",
   "metadata": {},
   "outputs": [
    {
     "ename": "KeyError",
     "evalue": "0",
     "output_type": "error",
     "traceback": [
      "\u001b[0;31m---------------------------------------------------------------------------\u001b[0m",
      "\u001b[0;31mKeyError\u001b[0m                                  Traceback (most recent call last)",
      "File \u001b[0;32m~/Library/Python/3.8/lib/python/site-packages/pandas/core/indexes/base.py:3621\u001b[0m, in \u001b[0;36mIndex.get_loc\u001b[0;34m(self, key, method, tolerance)\u001b[0m\n\u001b[1;32m   3620\u001b[0m \u001b[38;5;28;01mtry\u001b[39;00m:\n\u001b[0;32m-> 3621\u001b[0m     \u001b[38;5;28;01mreturn\u001b[39;00m \u001b[38;5;28;43mself\u001b[39;49m\u001b[38;5;241;43m.\u001b[39;49m\u001b[43m_engine\u001b[49m\u001b[38;5;241;43m.\u001b[39;49m\u001b[43mget_loc\u001b[49m\u001b[43m(\u001b[49m\u001b[43mcasted_key\u001b[49m\u001b[43m)\u001b[49m\n\u001b[1;32m   3622\u001b[0m \u001b[38;5;28;01mexcept\u001b[39;00m \u001b[38;5;167;01mKeyError\u001b[39;00m \u001b[38;5;28;01mas\u001b[39;00m err:\n",
      "File \u001b[0;32mpandas/_libs/index.pyx:136\u001b[0m, in \u001b[0;36mpandas._libs.index.IndexEngine.get_loc\u001b[0;34m()\u001b[0m\n",
      "File \u001b[0;32mpandas/_libs/index.pyx:163\u001b[0m, in \u001b[0;36mpandas._libs.index.IndexEngine.get_loc\u001b[0;34m()\u001b[0m\n",
      "File \u001b[0;32mpandas/_libs/hashtable_class_helper.pxi:5198\u001b[0m, in \u001b[0;36mpandas._libs.hashtable.PyObjectHashTable.get_item\u001b[0;34m()\u001b[0m\n",
      "File \u001b[0;32mpandas/_libs/hashtable_class_helper.pxi:5206\u001b[0m, in \u001b[0;36mpandas._libs.hashtable.PyObjectHashTable.get_item\u001b[0;34m()\u001b[0m\n",
      "\u001b[0;31mKeyError\u001b[0m: 0",
      "\nThe above exception was the direct cause of the following exception:\n",
      "\u001b[0;31mKeyError\u001b[0m                                  Traceback (most recent call last)",
      "Cell \u001b[0;32mIn [8], line 1\u001b[0m\n\u001b[0;32m----> 1\u001b[0m artists_search \u001b[38;5;241m=\u001b[39m \u001b[43mcreate_dataframes\u001b[49m\u001b[38;5;241;43m.\u001b[39;49m\u001b[43martist_search_results\u001b[49m\u001b[43m(\u001b[49m\u001b[43martist_counts\u001b[49m\u001b[38;5;241;43m.\u001b[39;49m\u001b[43mcolumns\u001b[49m\u001b[43m,\u001b[49m\u001b[43m \u001b[49m\u001b[43martist_id_counts\u001b[49m\u001b[43m)\u001b[49m\n\u001b[1;32m      2\u001b[0m recs \u001b[38;5;241m=\u001b[39m playlist1\u001b[38;5;241m.\u001b[39mget_recommendations(artists_search, avg_audio_values, k\u001b[38;5;241m=\u001b[39m\u001b[38;5;241m5\u001b[39m)\n",
      "File \u001b[0;32m~/mv/fall23/dsc478/dsc478_final_project/dsc478_final/create_dataframes.py:52\u001b[0m, in \u001b[0;36martist_search_results\u001b[0;34m(artist_list, artist_id_list)\u001b[0m\n\u001b[1;32m     49\u001b[0m \u001b[38;5;28;01mfor\u001b[39;00m i \u001b[38;5;129;01min\u001b[39;00m \u001b[38;5;28mrange\u001b[39m(\u001b[38;5;241m0\u001b[39m, num_artists):\n\u001b[1;32m     51\u001b[0m     artist \u001b[38;5;241m=\u001b[39m artist_list[i]\n\u001b[0;32m---> 52\u001b[0m     artist_id \u001b[38;5;241m=\u001b[39m \u001b[43martist_id_list\u001b[49m\u001b[43m[\u001b[49m\u001b[43mi\u001b[49m\u001b[43m]\u001b[49m\n\u001b[1;32m     54\u001b[0m     song_names \u001b[38;5;241m=\u001b[39m []\n\u001b[1;32m     55\u001b[0m     song_ids \u001b[38;5;241m=\u001b[39m []\n",
      "File \u001b[0;32m~/Library/Python/3.8/lib/python/site-packages/pandas/core/frame.py:3505\u001b[0m, in \u001b[0;36mDataFrame.__getitem__\u001b[0;34m(self, key)\u001b[0m\n\u001b[1;32m   3503\u001b[0m \u001b[38;5;28;01mif\u001b[39;00m \u001b[38;5;28mself\u001b[39m\u001b[38;5;241m.\u001b[39mcolumns\u001b[38;5;241m.\u001b[39mnlevels \u001b[38;5;241m>\u001b[39m \u001b[38;5;241m1\u001b[39m:\n\u001b[1;32m   3504\u001b[0m     \u001b[38;5;28;01mreturn\u001b[39;00m \u001b[38;5;28mself\u001b[39m\u001b[38;5;241m.\u001b[39m_getitem_multilevel(key)\n\u001b[0;32m-> 3505\u001b[0m indexer \u001b[38;5;241m=\u001b[39m \u001b[38;5;28;43mself\u001b[39;49m\u001b[38;5;241;43m.\u001b[39;49m\u001b[43mcolumns\u001b[49m\u001b[38;5;241;43m.\u001b[39;49m\u001b[43mget_loc\u001b[49m\u001b[43m(\u001b[49m\u001b[43mkey\u001b[49m\u001b[43m)\u001b[49m\n\u001b[1;32m   3506\u001b[0m \u001b[38;5;28;01mif\u001b[39;00m is_integer(indexer):\n\u001b[1;32m   3507\u001b[0m     indexer \u001b[38;5;241m=\u001b[39m [indexer]\n",
      "File \u001b[0;32m~/Library/Python/3.8/lib/python/site-packages/pandas/core/indexes/base.py:3623\u001b[0m, in \u001b[0;36mIndex.get_loc\u001b[0;34m(self, key, method, tolerance)\u001b[0m\n\u001b[1;32m   3621\u001b[0m     \u001b[38;5;28;01mreturn\u001b[39;00m \u001b[38;5;28mself\u001b[39m\u001b[38;5;241m.\u001b[39m_engine\u001b[38;5;241m.\u001b[39mget_loc(casted_key)\n\u001b[1;32m   3622\u001b[0m \u001b[38;5;28;01mexcept\u001b[39;00m \u001b[38;5;167;01mKeyError\u001b[39;00m \u001b[38;5;28;01mas\u001b[39;00m err:\n\u001b[0;32m-> 3623\u001b[0m     \u001b[38;5;28;01mraise\u001b[39;00m \u001b[38;5;167;01mKeyError\u001b[39;00m(key) \u001b[38;5;28;01mfrom\u001b[39;00m \u001b[38;5;21;01merr\u001b[39;00m\n\u001b[1;32m   3624\u001b[0m \u001b[38;5;28;01mexcept\u001b[39;00m \u001b[38;5;167;01mTypeError\u001b[39;00m:\n\u001b[1;32m   3625\u001b[0m     \u001b[38;5;66;03m# If we have a listlike key, _check_indexing_error will raise\u001b[39;00m\n\u001b[1;32m   3626\u001b[0m     \u001b[38;5;66;03m#  InvalidIndexError. Otherwise we fall through and re-raise\u001b[39;00m\n\u001b[1;32m   3627\u001b[0m     \u001b[38;5;66;03m#  the TypeError.\u001b[39;00m\n\u001b[1;32m   3628\u001b[0m     \u001b[38;5;28mself\u001b[39m\u001b[38;5;241m.\u001b[39m_check_indexing_error(key)\n",
      "\u001b[0;31mKeyError\u001b[0m: 0"
     ]
    }
   ],
   "source": [
    "artists_search = create_dataframes.artist_search_results(artist_counts.columns, artist_id_counts)\n",
    "recs = playlist1.get_recommendations(artists_search, avg_audio_values, k=5)\n",
    "#create_dataframes.create_new_playlist(recs, final_playlist_len)"
   ]
  },
  {
   "cell_type": "code",
   "execution_count": null,
   "id": "f5cc342d",
   "metadata": {},
   "outputs": [],
   "source": []
  },
  {
   "cell_type": "code",
   "execution_count": null,
   "id": "8f778476",
   "metadata": {
    "scrolled": false
   },
   "outputs": [],
   "source": [
    "playlist1.audio_features"
   ]
  },
  {
   "cell_type": "code",
   "execution_count": null,
   "id": "589a67a0",
   "metadata": {},
   "outputs": [],
   "source": [
    "playlist1.numeric_features"
   ]
  },
  {
   "cell_type": "code",
   "execution_count": null,
   "id": "a6f6376e",
   "metadata": {},
   "outputs": [],
   "source": [
    "playlist1.numeric_features.iloc[:,1:]"
   ]
  },
  {
   "cell_type": "code",
   "execution_count": null,
   "id": "3a9e03c5",
   "metadata": {},
   "outputs": [],
   "source": [
    "tmp =  playlist1.normalize_audio_features(MinMaxScaler, playlist1.numeric_features.iloc[:,1:])\n",
    "tmp"
   ]
  },
  {
   "cell_type": "code",
   "execution_count": null,
   "id": "346008db",
   "metadata": {},
   "outputs": [],
   "source": [
    "playlist1.normalized_audio_features = tmp\n",
    "playlist1.normalized_audio_features"
   ]
  },
  {
   "cell_type": "code",
   "execution_count": null,
   "id": "c28fabbb",
   "metadata": {},
   "outputs": [],
   "source": [
    "artist_counts, artist_id_counts = playlist1.get_artist_counts()"
   ]
  },
  {
   "cell_type": "code",
   "execution_count": null,
   "id": "3b0b81f6",
   "metadata": {},
   "outputs": [],
   "source": [
    "avg_audio_values"
   ]
  },
  {
   "cell_type": "code",
   "execution_count": null,
   "id": "81bd4f4f",
   "metadata": {},
   "outputs": [],
   "source": [
    "# def artist_search_results(artist_list):\n",
    "#     artist_search_res = {}\n",
    "\n",
    "#     for artist in artist_list:\n",
    "#         result = sp.search(artist, type=['track'], limit = 50) #limit is 50 because we want to make sure that we're recommending songs not already in a playlist\n",
    "#         song_names = []\n",
    "#         song_ids = []\n",
    "\n",
    "#         for song in result['tracks']['items']:\n",
    "#             song_names.append(song['name'])\n",
    "#             song_ids.append(song['id'])\n",
    "            \n",
    "#         d = {'track':song_names,\n",
    "#             'track_id':song_ids}\n",
    "\n",
    "#         songs_search_res = pd.DataFrame(d, index=None)\n",
    "\n",
    "#         artist_search_res[artist] = songs_search_res\n",
    "\n",
    "#     return artist_search_res"
   ]
  },
  {
   "cell_type": "code",
   "execution_count": null,
   "id": "4759db49",
   "metadata": {},
   "outputs": [],
   "source": [
    "artists_search = create_dataframes.artist_search_results(artist_counts.columns)"
   ]
  },
  {
   "cell_type": "code",
   "execution_count": null,
   "id": "b8404938",
   "metadata": {},
   "outputs": [],
   "source": [
    "# def knn_search(instance, data, K, measure):\n",
    "#     \"\"\" find K nearest neighbors of an instance x among the instances in D \"\"\"\n",
    "#     n_songs = data.shape[0]\n",
    "#     sims = []\n",
    "#     for j in range(0,n_songs) :\n",
    "#         try:\n",
    "#             sims.append(measure(np.array(instance).reshape(1, -1), np.array(data)[j,:].reshape(1, -1)))\n",
    "\n",
    "#         except Exception as e:\n",
    "#             print(e)\n",
    "#             sims.append([[-1]])\n",
    "            \n",
    "    \n",
    "#     sims = [x[0][0] for x in sims]\n",
    "#     idx = np.argsort(sims)[::-1] # sorting in descending order bc were dealing with similarity\n",
    "    \n",
    "#     # return the indexes of K nearest neighbors\n",
    "#     return idx[:K], sims"
   ]
  },
  {
   "cell_type": "markdown",
   "id": "7620b4ca",
   "metadata": {},
   "source": [
    "artists_search is a dictionary where the KEY is the artist, and the VALUE is a pd.DataFrame with songs that come up when you search their name. Need to find the audio features for each of these tracks, normalize them, and find the cosine distance between each song & the average for the playlist (also try to compare to the song from the original playlist that the artist came from)"
   ]
  },
  {
   "cell_type": "code",
   "execution_count": null,
   "id": "d3bf7bed",
   "metadata": {
    "scrolled": false
   },
   "outputs": [],
   "source": [
    "# def get_recommendations(search_res, comparison_values, k):\n",
    "#     '''Get song song recommendations for a list of artists'''\n",
    "\n",
    "#     recommended_songs = pd.DataFrame(index=None, columns=['artist', 'track', 'track_id', 'similarity'])\n",
    "\n",
    "#     for key in search_res.keys():\n",
    "#         songs_search_res = artists_search[key]\n",
    "#         search_res_audio_features = playlist1.get_audio_features(songs_search_res)\n",
    "#         scaled_search_res_audio_features = playlist1.normalize_audio_features(MinMaxScaler, search_res_audio_features)\n",
    "        \n",
    "#         scaled_audio_features =  np.array(scaled_search_res_audio_features)\n",
    "#         avg_audio_values = np.array(comparison_values)\n",
    "            \n",
    "#         idxs, sims = knn_search(comparison_values, scaled_audio_features, k, pairwise.cosine_similarity)\n",
    "        \n",
    "#         tmp = pd.DataFrame({'artist': key,\n",
    "#             'track' : songs_search_res.iloc[idxs,:].track,\n",
    "#             'track_id' : songs_search_res.iloc[idxs,:].track_id,\n",
    "#             'similarity' : [sims[x] for x in idxs]}, index=None)\n",
    "#         recommended_songs = pd.concat([recommended_songs, tmp], axis=0, ignore_index=True)\n",
    "\n",
    "#     return recommended_songs"
   ]
  },
  {
   "cell_type": "code",
   "execution_count": null,
   "id": "cab7086a",
   "metadata": {},
   "outputs": [],
   "source": [
    "recs"
   ]
  },
  {
   "cell_type": "code",
   "execution_count": null,
   "id": "d9d9eed4",
   "metadata": {},
   "outputs": [],
   "source": [
    "recs.index"
   ]
  },
  {
   "cell_type": "markdown",
   "id": "b6dd164d",
   "metadata": {},
   "source": [
    "use playlist_add_items to add all tracks to the playlist once its created"
   ]
  },
  {
   "cell_type": "code",
   "execution_count": null,
   "id": "95833156",
   "metadata": {},
   "outputs": [],
   "source": [
    "# def get_playlist_id(playlist_name, spotify):\n",
    "#     playlists = spotify.current_user_playlists()\n",
    "#     for playlist in playlists['items']:\n",
    "#         if playlist['name'] == playlist_name:\n",
    "#             print(playlist.keys())\n",
    "#             return playlist['id']"
   ]
  },
  {
   "cell_type": "code",
   "execution_count": null,
   "id": "3f753281",
   "metadata": {},
   "outputs": [],
   "source": [
    "# def build_playlist(tracks, playlist_id, final_len, spotify):\n",
    "#     '''Uses the spotify API to put songs onto a new playlist'''\n",
    "    \n",
    "#     tracks_to_add = tracks.iloc[:final_len,:]\n",
    "    \n",
    "#     user_id = sp.me()['id']\n",
    "#     spotify.user_playlist_add_tracks(user_id, playlist_id, tracks_to_add.track_id)\n",
    "    "
   ]
  },
  {
   "cell_type": "code",
   "execution_count": null,
   "id": "59d99160",
   "metadata": {},
   "outputs": [],
   "source": [
    "# def create_new_playlist(recs, playlist_length):\n",
    "#     '''Creates a new playlist by sorting recommendations in descending order by distance & choosing the first playlist_length songs '''\n",
    "    \n",
    "#     SCOPE = \"playlist-modify-public\"\n",
    "#     sp = spotipy.Spotify(auth_manager=SpotifyOAuth(scope=SCOPE,\n",
    "#                                                    client_id=SPOTIFY_CLIENT_ID,\n",
    "#                                                    client_secret=SPOTIFY_SECRET,\n",
    "#                                                    redirect_uri=REDIRECT_URI)\n",
    "#                         )\n",
    "    \n",
    "#     recs = recs.sort_values(by='similarity', ascending=False)\n",
    "#     rec_tracks_idx = recs.index[:final_playlist_len, ]\n",
    "#     recommendations = recs.loc[rec_tracks_idx, :]\n",
    "\n",
    "#     playlist_name = input('Choose a name for your new playlist:')\n",
    "#     playlist_desc = input('Add a description for your new playlist (OPTIONAL):')\n",
    "                          \n",
    "#     name = playlist_name if (len(playlist_name) > 0) else f'New Playlist (DSC 478 APP)_{int(time.time())}'\n",
    "#     desc = playlist_desc if (len(playlist_desc) > 0) else f'Playlist generated using DSC 478 final project application (timestamp:{int(time.time())})'\n",
    "    \n",
    "\n",
    "#     user_id = sp.me()['id']\n",
    "#     sp.user_playlist_create(user_id, name, public=True, description=desc)\n",
    "        \n",
    "#     playlist_id = get_playlist_id(name, sp)\n",
    "    \n",
    "#     build_playlist(recommendations, playlist_id, playlist_length, sp)\n",
    "    \n",
    "#     playlist_url = sp.playlist(playlist_id)['external_urls']['spotify']\n",
    "    \n",
    "#     print('DONE!')\n",
    "#     print(f'Here is the link to your new playlist: {playlist_url}')\n"
   ]
  },
  {
   "cell_type": "code",
   "execution_count": null,
   "id": "458f6547",
   "metadata": {},
   "outputs": [],
   "source": [
    "# SCOPE = \"playlist-modify-public\"\n",
    "# sp2 = spotipy.Spotify(auth_manager=SpotifyOAuth(scope=SCOPE,\n",
    "#                                                    client_id=config.SPOTIFY_CLIENT_ID,\n",
    "#                                                    client_secret=config.SPOTIFY_SECRET,\n",
    "#                                                    redirect_uri=config.REDIRECT_URI))b\n"
   ]
  },
  {
   "cell_type": "markdown",
   "id": "11532c0f",
   "metadata": {},
   "source": [
    "### Using standardscaler"
   ]
  },
  {
   "cell_type": "code",
   "execution_count": null,
   "id": "cae8ce45",
   "metadata": {},
   "outputs": [],
   "source": [
    "# playlist_link2, final_playlist_len2 = create_dataframes.get_user_playlist()\n",
    "# playlist2 = playlist.Playlist(playlist_link2, sp, StandardScaler)\n",
    "# artist_counts2, artist_id_counts2 = playlist2.get_artist_counts() \n",
    "# avg_audio_values2 = pd.DataFrame(playlist2.normalized_audio_features.mean(axis=0))\n",
    "# artists_search2 = create_dataframes.artist_search_results(artist_counts2.columns)\n",
    "# recs2 = playlist2.get_recommendations(artists_search2, avg_audio_values, k=5)\n",
    "# #create_dataframes.create_new_playlist(recs, final_playlist_len)"
   ]
  },
  {
   "cell_type": "code",
   "execution_count": null,
   "id": "d7173ecb",
   "metadata": {},
   "outputs": [],
   "source": []
  },
  {
   "cell_type": "markdown",
   "id": "87bc1261",
   "metadata": {},
   "source": [
    "the issue is that when scaling audio features some are set to NaN. Handle with a try-except block because im not too sure how often it is going to happen"
   ]
  },
  {
   "cell_type": "markdown",
   "id": "10340364",
   "metadata": {},
   "source": [
    "so i have 5 songs for each artist that appears in the playlist which are 'simlilar' to the songs that are already in the playlist based on audio features. \n",
    "\n",
    "- now build a new playlist to return to the user:\n",
    "\n",
    "    - look at all of the recommended songs, and can choose the top X song that are most similar to the playlist audio features average value\n",
    "    - MAKE SURE that the songs in the new playlist are NOT in the old playlist\n",
    "    - number of songs by a given artist in the new playlist should be influenced by frequencies of artists in the original playlist\n"
   ]
  },
  {
   "cell_type": "markdown",
   "id": "71b145de",
   "metadata": {},
   "source": [
    "### 11/14 commented functions out & made sure that they can be imported by py files (consider renaming)"
   ]
  },
  {
   "cell_type": "markdown",
   "id": "29fea69a",
   "metadata": {},
   "source": [
    "### now try to do PCA on the features & run the code on that data"
   ]
  },
  {
   "cell_type": "code",
   "execution_count": null,
   "id": "04ca2a0e",
   "metadata": {},
   "outputs": [],
   "source": [
    "from sklearn.preprocessing import StandardScaler"
   ]
  },
  {
   "cell_type": "code",
   "execution_count": null,
   "id": "89f52a34",
   "metadata": {},
   "outputs": [],
   "source": [
    "m = len(playlist1.df_playlist.popularity)"
   ]
  },
  {
   "cell_type": "code",
   "execution_count": null,
   "id": "81baa6d9",
   "metadata": {},
   "outputs": [],
   "source": [
    "std_scaled_popularity = StandardScaler().fit_transform(np.array(playlist1.df_playlist.popularity).reshape(m, 1))"
   ]
  },
  {
   "cell_type": "code",
   "execution_count": null,
   "id": "7c523ab2",
   "metadata": {},
   "outputs": [],
   "source": [
    "minmax_scaled_popularity = MinMaxScaler().fit_transform(np.array(playlist1.df_playlist.popularity).reshape(m, 1))"
   ]
  },
  {
   "cell_type": "markdown",
   "id": "c5238ea9",
   "metadata": {},
   "source": [
    "### try adding each of std & minmax scaled artist popularity to the data. (BUT WE HAVE TO GET POPULARITY IN THE SEARCH RESULTS AS WELL) perform PCA"
   ]
  },
  {
   "cell_type": "code",
   "execution_count": null,
   "id": "9bb1ec90",
   "metadata": {},
   "outputs": [],
   "source": [
    "norm_features = playlist1.normalized_audio_features\n",
    "norm_features"
   ]
  },
  {
   "cell_type": "code",
   "execution_count": null,
   "id": "c1a9ae12",
   "metadata": {},
   "outputs": [],
   "source": [
    "norm_features.loc[:,13] = std_scaled_popularity\n",
    "norm_features"
   ]
  },
  {
   "cell_type": "code",
   "execution_count": null,
   "id": "0418a1fd",
   "metadata": {},
   "outputs": [],
   "source": [
    "from sklearn import decomposition"
   ]
  },
  {
   "cell_type": "code",
   "execution_count": null,
   "id": "2451e503",
   "metadata": {},
   "outputs": [],
   "source": [
    "pca = decomposition.PCA(svd_solver='randomized')\n",
    "pca_minmax_playlist_track_audio_features = pca.fit_transform(norm_features)\n",
    "np.set_printoptions(precision=2,suppress=True, edgeitems=5, linewidth=120)\n",
    "print(pca.explained_variance_ratio_)"
   ]
  },
  {
   "cell_type": "code",
   "execution_count": null,
   "id": "94fa2182",
   "metadata": {},
   "outputs": [],
   "source": [
    "pca.explained_variance_ratio_[:5].sum()"
   ]
  },
  {
   "cell_type": "code",
   "execution_count": null,
   "id": "ce92c504",
   "metadata": {},
   "outputs": [],
   "source": [
    "varPercentage = pca.explained_variance_ratio_*100\n",
    "fig = plt.figure(figsize=(12,8))\n",
    "ax = fig.add_subplot(111)\n",
    "ax.plot(range(14), varPercentage[:], marker='^')\n",
    "plt.xlabel('Principal Component Number')\n",
    "plt.ylabel('Percentage of Variance')\n",
    "plt.xticks(range(14))\n",
    "plt.show()"
   ]
  },
  {
   "cell_type": "code",
   "execution_count": null,
   "id": "20818014",
   "metadata": {},
   "outputs": [],
   "source": [
    "pca_transform_data = pca_minmax_playlist_track_audio_features[:,:5]\n",
    "pca_transform_data"
   ]
  },
  {
   "cell_type": "code",
   "execution_count": null,
   "id": "83c58b43",
   "metadata": {},
   "outputs": [],
   "source": [
    "# norm_features.loc[:,13] = minmax_scaled_popularity\n",
    "# norm_features"
   ]
  },
  {
   "cell_type": "code",
   "execution_count": null,
   "id": "91777080",
   "metadata": {},
   "outputs": [],
   "source": [
    "# pca = decomposition.PCA(svd_solver='randomized')\n",
    "# pca_minmax_playlist_track_audio_features = pca.fit_transform(norm_features)\n",
    "# np.set_printoptions(precision=2,suppress=True, edgeitems=5, linewidth=120)\n",
    "# print(pca.explained_variance_ratio_)"
   ]
  },
  {
   "cell_type": "code",
   "execution_count": null,
   "id": "49d579a8",
   "metadata": {},
   "outputs": [],
   "source": [
    "# varPercentage = pca.explained_variance_ratio_*100\n",
    "# fig = plt.figure(figsize=(12,8))\n",
    "# ax = fig.add_subplot(111)\n",
    "# ax.plot(range(13), varPercentage[:], marker='^')\n",
    "# plt.xlabel('Principal Component Number')\n",
    "# plt.ylabel('Percentage of Variance')\n",
    "# plt.xticks(range(13))\n",
    "# plt.show()"
   ]
  },
  {
   "cell_type": "code",
   "execution_count": null,
   "id": "a778a351",
   "metadata": {},
   "outputs": [],
   "source": [
    "# norm_features.loc[:,13] = std_scaled_popularity\n",
    "# norm_features"
   ]
  },
  {
   "cell_type": "code",
   "execution_count": null,
   "id": "8439dc9d",
   "metadata": {},
   "outputs": [],
   "source": [
    "playlist1.normalized_audio_features = pd.DataFrame(pca_transform_data)\n",
    "playlist1.normalized_audio_features"
   ]
  },
  {
   "cell_type": "code",
   "execution_count": null,
   "id": "2f675b33",
   "metadata": {},
   "outputs": [],
   "source": [
    "artist_counts, artist_id_counts = playlist1.get_artist_counts() \n",
    "avg_audio_values = pd.DataFrame(playlist1.normalized_audio_features.mean(axis=0))\n",
    "artists_search = create_dataframes.artist_search_results(artist_counts.columns)\n",
    "recs = playlist1.get_recommendations(artists_search, avg_audio_values, k=5)\n",
    "create_dataframes.create_new_playlist(recs, final_playlist_len)"
   ]
  },
  {
   "cell_type": "markdown",
   "id": "58acfd29",
   "metadata": {},
   "source": [
    "# try clustering the playlist"
   ]
  },
  {
   "cell_type": "code",
   "execution_count": null,
   "id": "f51b06f3",
   "metadata": {},
   "outputs": [],
   "source": [
    "#get original data back not PCA yet\n",
    "playlist_link, final_playlist_len = create_dataframes.get_user_playlist()\n",
    "playlist1 = playlist.Playlist(playlist_link, sp)\n",
    "artist_counts, artist_id_counts = playlist1.get_artist_counts() \n",
    "avg_audio_values = pd.DataFrame(playlist1.normalized_audio_features.mean(axis=0))\n",
    "artists_search = create_dataframes.artist_search_results(artist_counts.columns)\n",
    "recs = playlist1.get_recommendations(artists_search, avg_audio_values, k=5)\n",
    "#create_dataframes.create_new_playlist(recs, final_playlist_len)"
   ]
  }
 ],
 "metadata": {
  "kernelspec": {
   "display_name": "Python 3 (ipykernel)",
   "language": "python",
   "name": "python3"
  },
  "language_info": {
   "codemirror_mode": {
    "name": "ipython",
    "version": 3
   },
   "file_extension": ".py",
   "mimetype": "text/x-python",
   "name": "python",
   "nbconvert_exporter": "python",
   "pygments_lexer": "ipython3",
   "version": "3.8.9"
  }
 },
 "nbformat": 4,
 "nbformat_minor": 5
}
